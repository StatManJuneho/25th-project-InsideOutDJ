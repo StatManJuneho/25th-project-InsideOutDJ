{
 "cells": [
  {
   "cell_type": "code",
   "execution_count": null,
   "metadata": {},
   "outputs": [],
   "source": [
    "#!pip install scikit-learn\n",
    "\n",
    "import pandas as pd\n",
    "from sklearn.preprocessing import RobustScaler, StandardScaler, MinMaxScaler\n",
    "import matplotlib.pyplot as plt\n",
    "import seaborn as sns\n",
    "import numpy as np\n",
    "import os\n",
    "from keybert import KeyBERT\n",
    "from sentence_transformers import SentenceTransformer"
   ]
  },
  {
   "cell_type": "code",
   "execution_count": null,
   "metadata": {},
   "outputs": [],
   "source": [
    "# 가사 데이터 추가된 최종 데이터셋(tracks_with_lyrics)이 완성되면 바꾸기\n",
    "#songs_df = pd.read_csv('raw_data_songs/tracks_with_lyrics.csv')\n",
    "songs_df = pd.read_csv('raw_data_songs/tracks_raw.csv')"
   ]
  },
  {
   "cell_type": "code",
   "execution_count": null,
   "metadata": {},
   "outputs": [],
   "source": [
    "# 필요한 column 있으면 추가하기\n",
    "# 가사 데이터 수집되면 'lyrics' 추가\n",
    "# 'uri'는 웹 플레이어 구현할 떄 필요할 듯?\n",
    "songs_df = songs_df[['track_name', 'artist_name', 'valence', 'tempo', 'energy', 'loudness', 'danceability', 'uri', 'track_id', 'lyrics']]\n",
    "songs_df.head()"
   ]
  },
  {
   "cell_type": "code",
   "execution_count": null,
   "metadata": {},
   "outputs": [],
   "source": [
    "songs_df.count()"
   ]
  },
  {
   "cell_type": "code",
   "execution_count": null,
   "metadata": {},
   "outputs": [],
   "source": [
    "songs_df.dropna(subset=['lyrics'], inplace=True)\n",
    "songs_df.dropna(subset=['valence'], inplace=True)\n",
    "songs_df.dropna(subset=['uri'], inplace=True)\n",
    "songs_df.count()"
   ]
  },
  {
   "cell_type": "code",
   "execution_count": null,
   "metadata": {},
   "outputs": [],
   "source": [
    "# 분포 그려보니까 바로 MinMax 쓰면 너무 한쪽으로 skewed됨\n",
    "# 0~1로 정규화안되있는 'tempo', 'loudness' 이상치 처리\n",
    "def remove_outliers(df, column):\n",
    "    Q1 = df[column].quantile(0.25)\n",
    "    Q3 = df[column].quantile(0.75)\n",
    "    IQR = Q3 - Q1\n",
    "    return df[~((df[column] < (Q1 - 1.5 * IQR)) | (df[column] > (Q3 + 1.5 * IQR)))]\n",
    "\n",
    "\n",
    "songs_df = remove_outliers(songs_df, 'tempo')\n",
    "songs_df = remove_outliers(songs_df, 'loudness')\n"
   ]
  },
  {
   "cell_type": "code",
   "execution_count": null,
   "metadata": {},
   "outputs": [],
   "source": [
    "#pre_scaler = StandardScaler()\n",
    "#pre_scaler = RobustScaler()\n",
    "scaler = MinMaxScaler(feature_range=(-1, 1))\n",
    "songs_df[['valence', 'tempo', 'energy', 'loudness', 'danceability']] = scaler.fit_transform(songs_df[['valence', 'tempo', 'energy', 'loudness', 'danceability']])\n",
    "songs_df.head()"
   ]
  },
  {
   "cell_type": "code",
   "execution_count": null,
   "metadata": {},
   "outputs": [],
   "source": [
    "# 분포 확인\n",
    "columns_to_plot = ['valence', 'tempo', 'energy', 'loudness', 'danceability']\n",
    "\n",
    "plt.figure(figsize=(20, 15))\n",
    "for i, column in enumerate(columns_to_plot, 1):\n",
    "    plt.subplot(3, 2, i)\n",
    "    sns.histplot(songs_df[column], kde=True)\n",
    "    plt.title(f'Distribution of {column.capitalize()}')\n",
    "    plt.xlabel(column.capitalize())\n",
    "    plt.ylabel('Frequency')\n",
    "\n",
    "plt.tight_layout()\n",
    "plt.show()"
   ]
  },
  {
   "cell_type": "code",
   "execution_count": null,
   "metadata": {},
   "outputs": [],
   "source": [
    "# 가중치 설정\n",
    "weights = {\n",
    "    'tempo': 0.60,\n",
    "    'energy': 0.15,\n",
    "    'loudness': 0.15,\n",
    "    'danceability': 0.10\n",
    "}\n",
    "\n",
    "# Calculate 'arousal' value\n",
    "songs_df['arousal'] = (\n",
    "    songs_df['tempo'] * weights['tempo'] +\n",
    "    songs_df['energy'] * weights['energy'] +\n",
    "    songs_df['loudness'] * weights['loudness'] +\n",
    "    songs_df['danceability'] * weights['danceability']\n",
    ")\n",
    "\n",
    "songs_df.head()\n"
   ]
  },
  {
   "cell_type": "code",
   "execution_count": null,
   "metadata": {},
   "outputs": [],
   "source": [
    "def classify_emotion(songs_df):\n",
    "    def get_emotion(row):\n",
    "        if row['valence'] > 0 and row['arousal'] >= 0:\n",
    "            return '1'\n",
    "        elif row['valence'] >= 0 and row['arousal'] < 0:\n",
    "            return '4'\n",
    "        elif row['valence'] <= 0 and row['arousal'] > 0:\n",
    "            return '2'\n",
    "        elif row['valence'] < 0 and row['arousal'] <= 0:\n",
    "            return '3'\n",
    "        else:\n",
    "            return None\n",
    "\n",
    "    songs_df['emotion'] = songs_df.apply(get_emotion, axis=1)\n",
    "    return songs_df \n"
   ]
  },
  {
   "cell_type": "code",
   "execution_count": null,
   "metadata": {},
   "outputs": [],
   "source": [
    "# Define the function to calculate the scalar value and categorize it\n",
    "# 그냥 임의로 IQR로 설정했는데 나중에 바꾸던가 사용하지 않아도 될 듯\n",
    "def classify_intensity(songs_df):\n",
    "    songs_df['scalar_value'] = np.sqrt(songs_df['valence']**2 + songs_df['arousal']**2)\n",
    "    \n",
    "    Q1 = songs_df['scalar_value'].quantile(0.25)\n",
    "    Q2 = songs_df['scalar_value'].quantile(0.50)\n",
    "    Q3 = songs_df['scalar_value'].quantile(0.75)\n",
    "\n",
    "    def get_intensity(scalar_value):\n",
    "        if scalar_value <= Q1:\n",
    "            return 'neutral'\n",
    "        elif Q1 < scalar_value <= Q2:\n",
    "            return 'low'\n",
    "        elif Q2 < scalar_value <= Q3:\n",
    "            return 'medium'\n",
    "        else:\n",
    "            return 'high'\n",
    "        \n",
    "    songs_df['intensity'] = songs_df['scalar_value'].apply(get_intensity)\n",
    "    \n",
    "    # Drop the temporary 'scalar_value' column if not needed\n",
    "    songs_df = songs_df.drop(columns=['scalar_value'])\n",
    "    \n",
    "    return songs_df\n",
    "\n",
    "# Apply the function to categorize intensity\n",
    "songs_df = classify_intensity(songs_df)"
   ]
  },
  {
   "cell_type": "code",
   "execution_count": null,
   "metadata": {},
   "outputs": [],
   "source": [
    "# Apply the function to classify_emotion\n",
    "songs_df = classify_emotion(songs_df)\n",
    "# Apply the function to classify_intensity\n",
    "songs_df = classify_intensity(songs_df)\n",
    "songs_df.head()"
   ]
  },
  {
   "cell_type": "code",
   "execution_count": null,
   "metadata": {},
   "outputs": [],
   "source": [
    "# 'lylics' 추가\n",
    "songs_df = songs_df[['track_name', 'artist_name', 'valence', 'arousal', 'emotion', 'intensity', 'lyrics', 'uri', 'track_id']]\n",
    "songs_df.head()"
   ]
  },
  {
   "cell_type": "code",
   "execution_count": null,
   "metadata": {},
   "outputs": [],
   "source": [
    "songs_df.info()"
   ]
  },
  {
   "cell_type": "code",
   "execution_count": null,
   "metadata": {},
   "outputs": [],
   "source": [
    "import re\n",
    "\n",
    "# lyrics 전처리 추가\n",
    "\n",
    "# lyrics 정리하는 함수\n",
    "def clean_lyrics(lyrics):\n",
    "    # Remove sections like [verse], [bridge], etc.\n",
    "    lyrics = re.sub(r'\\[.*?\\]', '', lyrics)\n",
    "    # Remove contributor information and other extraneous text\n",
    "    lyrics = re.sub(r'\\d+ Contributors.*$', '', lyrics, flags=re.MULTILINE)\n",
    "    # Remove leading and trailing whitespace\n",
    "    lyrics = lyrics.strip()\n",
    "    return lyrics\n",
    "\n",
    "# 'lyrics' 전처리해서 데이터 교체\n",
    "songs_df['lyrics'] = songs_df['lyrics'].apply(clean_lyrics)\n",
    "\n",
    "# 'lyrics' 칼럼의 데이터를 모두 문자열로 변환\n",
    "songs_df['lyrics'] = songs_df['lyrics'].astype(str)\n",
    "\n",
    "\n",
    "# 가사 5000자 이상 노래 삭제 \n",
    "songs_df = songs_df[songs_df['lyrics'].str.len() <= 5000]"
   ]
  },
  {
   "cell_type": "code",
   "execution_count": null,
   "metadata": {},
   "outputs": [],
   "source": [
    "songs_df.info()"
   ]
  },
  {
   "cell_type": "code",
   "execution_count": null,
   "metadata": {},
   "outputs": [],
   "source": [
    "songs_df.to_csv('tracks_preprocessed.csv')"
   ]
  },
  {
   "cell_type": "code",
   "execution_count": null,
   "metadata": {},
   "outputs": [],
   "source": [
    "# KeyBERT로 lyrics 키워드 뽑아서 새로운 칼럼으로 만들어놔야함\n",
    "\n",
    "# 텍스트에서 키워드를 추출하는 함수\n",
    "def extract_keywords(text, model):\n",
    "    kw_model = KeyBERT(model)\n",
    "    keywords = kw_model.extract_keywords(text, keyphrase_ngram_range=(1, 1), stop_words=None, top_n=10)\n",
    "    return [kw[0] for kw in keywords]\n",
    "\n",
    "def main(lyrics_path, output_path):\n",
    "    # 데이터셋 로드\n",
    "    lyrics_df = pd.read_csv(lyrics_path)\n",
    "\n",
    "    # 'lyrics' 컬럼의 NaN 값을 빈 문자열로 대체\n",
    "    lyrics_df['lyrics'] = lyrics_df['lyrics'].fillna('')\n",
    "\n",
    "    # SBERT 모델 로드\n",
    "    sbert_model = SentenceTransformer('paraphrase-multilingual-MiniLM-L12-v2')\n",
    "    \n",
    "    # 'lyrics'에서 키워드를 추출하여 'lyrics_keyword' 컬럼에 저장\n",
    "    lyrics_df['lyrics_keyword'] = lyrics_df['lyrics'].apply(lambda x: ', '.join(extract_keywords(x, sbert_model)) if isinstance(x, str) else '')\n",
    "\n",
    "    # 각 키워드의 임베딩 벡터 계산\n",
    "    def compute_embedding(keywords, model):\n",
    "        keywords_list = keywords.split(', ')\n",
    "        embeddings = model.encode(keywords_list)\n",
    "        return embeddings\n",
    "\n",
    "    # 'keyword_embedding' 컬럼에 각 키워드의 임베딩 벡터 저장\n",
    "    lyrics_df['keyword_embedding'] = lyrics_df['lyrics_keyword'].apply(lambda x: compute_embedding(x, sbert_model))\n",
    "        \n",
    "    # 수정된 데이터셋 저장\n",
    "    lyrics_df.to_csv(output_path, index=False)"
   ]
  },
  {
   "cell_type": "code",
   "execution_count": null,
   "metadata": {},
   "outputs": [],
   "source": [
    "if __name__ == \"__main__\":\n",
    "    lyrics_path = os.path.join('tracks_preprocessed.csv')  # 원본 데이터셋 경로 설정\n",
    "    output_path = os.path.join('tracks_final.csv')  # 수정된 데이터셋 저장 경로 설정\n",
    "    main(lyrics_path, output_path)"
   ]
  },
  {
   "cell_type": "code",
   "execution_count": null,
   "metadata": {},
   "outputs": [],
   "source": [
    "import plotly.express as px\n",
    "\n",
    "fig = px.scatter(songs_df, x='valence', y='arousal', hover_data=['track_name', 'artist_name'],\n",
    "                 title='Scatter Plot of Valence vs Arousal')\n",
    "\n",
    "fig.update_layout(\n",
    "    xaxis=dict(scaleanchor=\"y\", scaleratio=1),\n",
    "    yaxis=dict(scaleanchor=\"x\", scaleratio=1),\n",
    "    width=800,\n",
    "    height=600\n",
    ")\n",
    "\n",
    "# Show the plot\n",
    "fig.show()"
   ]
  }
 ],
 "metadata": {
  "kernelspec": {
   "display_name": "base",
   "language": "python",
   "name": "python3"
  },
  "language_info": {
   "codemirror_mode": {
    "name": "ipython",
    "version": 3
   },
   "file_extension": ".py",
   "mimetype": "text/x-python",
   "name": "python",
   "nbconvert_exporter": "python",
   "pygments_lexer": "ipython3",
   "version": "3.12.3"
  }
 },
 "nbformat": 4,
 "nbformat_minor": 2
}
